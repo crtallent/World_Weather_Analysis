{
 "cells": [
  {
   "cell_type": "code",
   "execution_count": 5,
   "id": "405d6a38",
   "metadata": {},
   "outputs": [],
   "source": [
    "# Import the dependencies.\n",
    "import pandas as pd\n",
    "import gmaps\n",
    "import requests\n",
    "# Import the API key.\n",
    "import sys\n",
    "sys.path.append(\"C:/Users/c_tal/Desktop\")\n",
    "from api_keys import g_key\n",
    "g_key = g_key"
   ]
  },
  {
   "cell_type": "code",
   "execution_count": 6,
   "id": "4220afdb",
   "metadata": {},
   "outputs": [
    {
     "data": {
      "text/html": [
       "<div>\n",
       "<style scoped>\n",
       "    .dataframe tbody tr th:only-of-type {\n",
       "        vertical-align: middle;\n",
       "    }\n",
       "\n",
       "    .dataframe tbody tr th {\n",
       "        vertical-align: top;\n",
       "    }\n",
       "\n",
       "    .dataframe thead th {\n",
       "        text-align: right;\n",
       "    }\n",
       "</style>\n",
       "<table border=\"1\" class=\"dataframe\">\n",
       "  <thead>\n",
       "    <tr style=\"text-align: right;\">\n",
       "      <th></th>\n",
       "      <th>City_ID</th>\n",
       "      <th>City</th>\n",
       "      <th>Country</th>\n",
       "      <th>Date</th>\n",
       "      <th>Lat</th>\n",
       "      <th>Lng</th>\n",
       "      <th>Max Temp</th>\n",
       "      <th>Humidity</th>\n",
       "      <th>Cloudiness</th>\n",
       "      <th>Wind Speed</th>\n",
       "    </tr>\n",
       "  </thead>\n",
       "  <tbody>\n",
       "    <tr>\n",
       "      <th>0</th>\n",
       "      <td>0</td>\n",
       "      <td>Port Hedland</td>\n",
       "      <td>AU</td>\n",
       "      <td>2021-12-25 21:55:03</td>\n",
       "      <td>-20.3167</td>\n",
       "      <td>118.5667</td>\n",
       "      <td>80.65</td>\n",
       "      <td>61</td>\n",
       "      <td>22</td>\n",
       "      <td>5.75</td>\n",
       "    </tr>\n",
       "    <tr>\n",
       "      <th>1</th>\n",
       "      <td>1</td>\n",
       "      <td>Kapaa</td>\n",
       "      <td>US</td>\n",
       "      <td>2021-12-25 21:55:03</td>\n",
       "      <td>22.0752</td>\n",
       "      <td>-159.3190</td>\n",
       "      <td>78.78</td>\n",
       "      <td>67</td>\n",
       "      <td>71</td>\n",
       "      <td>1.99</td>\n",
       "    </tr>\n",
       "    <tr>\n",
       "      <th>2</th>\n",
       "      <td>2</td>\n",
       "      <td>Ushuaia</td>\n",
       "      <td>AR</td>\n",
       "      <td>2021-12-25 21:55:03</td>\n",
       "      <td>-54.8000</td>\n",
       "      <td>-68.3000</td>\n",
       "      <td>55.06</td>\n",
       "      <td>44</td>\n",
       "      <td>75</td>\n",
       "      <td>6.91</td>\n",
       "    </tr>\n",
       "    <tr>\n",
       "      <th>3</th>\n",
       "      <td>3</td>\n",
       "      <td>Atuona</td>\n",
       "      <td>PF</td>\n",
       "      <td>2021-12-25 21:55:04</td>\n",
       "      <td>-9.8000</td>\n",
       "      <td>-139.0333</td>\n",
       "      <td>78.89</td>\n",
       "      <td>68</td>\n",
       "      <td>11</td>\n",
       "      <td>15.17</td>\n",
       "    </tr>\n",
       "    <tr>\n",
       "      <th>4</th>\n",
       "      <td>4</td>\n",
       "      <td>Marquette</td>\n",
       "      <td>US</td>\n",
       "      <td>2021-12-25 21:55:04</td>\n",
       "      <td>46.5333</td>\n",
       "      <td>-87.6335</td>\n",
       "      <td>25.34</td>\n",
       "      <td>55</td>\n",
       "      <td>89</td>\n",
       "      <td>9.22</td>\n",
       "    </tr>\n",
       "  </tbody>\n",
       "</table>\n",
       "</div>"
      ],
      "text/plain": [
       "   City_ID          City Country                 Date      Lat       Lng  \\\n",
       "0        0  Port Hedland      AU  2021-12-25 21:55:03 -20.3167  118.5667   \n",
       "1        1         Kapaa      US  2021-12-25 21:55:03  22.0752 -159.3190   \n",
       "2        2       Ushuaia      AR  2021-12-25 21:55:03 -54.8000  -68.3000   \n",
       "3        3        Atuona      PF  2021-12-25 21:55:04  -9.8000 -139.0333   \n",
       "4        4     Marquette      US  2021-12-25 21:55:04  46.5333  -87.6335   \n",
       "\n",
       "   Max Temp  Humidity  Cloudiness  Wind Speed  \n",
       "0     80.65        61          22        5.75  \n",
       "1     78.78        67          71        1.99  \n",
       "2     55.06        44          75        6.91  \n",
       "3     78.89        68          11       15.17  \n",
       "4     25.34        55          89        9.22  "
      ]
     },
     "execution_count": 6,
     "metadata": {},
     "output_type": "execute_result"
    }
   ],
   "source": [
    "# Store the CSV you saved created in part one into a DataFrame.\n",
    "city_data_df = pd.read_csv(\"weather_data/cities.csv\")\n",
    "city_data_df.head()"
   ]
  },
  {
   "cell_type": "code",
   "execution_count": 7,
   "id": "779b0b00",
   "metadata": {},
   "outputs": [
    {
     "data": {
      "text/plain": [
       "City_ID         int64\n",
       "City           object\n",
       "Country        object\n",
       "Date           object\n",
       "Lat           float64\n",
       "Lng           float64\n",
       "Max Temp      float64\n",
       "Humidity        int64\n",
       "Cloudiness      int64\n",
       "Wind Speed    float64\n",
       "dtype: object"
      ]
     },
     "execution_count": 7,
     "metadata": {},
     "output_type": "execute_result"
    }
   ],
   "source": [
    "city_data_df.dtypes"
   ]
  },
  {
   "cell_type": "code",
   "execution_count": 8,
   "id": "2adcaee9",
   "metadata": {},
   "outputs": [],
   "source": [
    "# Configure gmaps to use your Google API key.\n",
    "gmaps.configure(api_key=g_key)"
   ]
  },
  {
   "cell_type": "markdown",
   "id": "c6fcad55",
   "metadata": {},
   "source": [
    "# 1. Assign the locations to an array of latitude and longitude pairs.\n",
    "locations = [latitude, longitude]\n",
    "# 2. Assign the weights variable to some values.\n",
    "temperatures = # an array of length equal to the locations array length\n",
    "# 3. Assign the figure variable to the gmaps.figure() attribute.\n",
    "fig = gmaps.figure()\n",
    "# 4. Assign the heatmap_layer variable to the heatmap_layer attribute and add in the locations.\n",
    "heatmap_layer = gmaps.heatmap_layer(locations, weights=temperatures)\n",
    "\n",
    "# 5. Add the heatmap layer.\n",
    "fig.add_layer(heatmap_layer)\n",
    "# 6. Call the figure to plot the data.\n",
    "fig"
   ]
  },
  {
   "cell_type": "code",
   "execution_count": 11,
   "id": "bb0d9809",
   "metadata": {},
   "outputs": [],
   "source": [
    "# Get the maximum temperature. (Must do this if max temp is below 0 or error will return)\n",
    "max_temp = city_data_df[\"Max Temp\"]\n",
    "temps = []\n",
    "for temp in max_temp:\n",
    "    temps.append(max(temp, 0))"
   ]
  },
  {
   "cell_type": "markdown",
   "id": "075b655e",
   "metadata": {},
   "source": [
    "If below 0, replace heat_layer = gmaps.heatmap_layer(locations, weights=max_temp) with \n",
    "heat_layer = gmaps.heatmap_layer(locations, weights=temps)"
   ]
  },
  {
   "cell_type": "markdown",
   "id": "2efcc73b",
   "metadata": {},
   "source": [
    "Instead of using For loop, use list comprehension to eliminate zero error."
   ]
  },
  {
   "cell_type": "code",
   "execution_count": 18,
   "id": "f74a8a28",
   "metadata": {},
   "outputs": [
    {
     "data": {
      "application/vnd.jupyter.widget-view+json": {
       "model_id": "1f9dd0969efa4d00be4da13026f1bdb6",
       "version_major": 2,
       "version_minor": 0
      },
      "text/plain": [
       "Figure(layout=FigureLayout(height='420px'))"
      ]
     },
     "metadata": {},
     "output_type": "display_data"
    }
   ],
   "source": [
    "# Heatmap of temperature\n",
    "# Get the latitude and longitude.\n",
    "locations = city_data_df[[\"Lat\", \"Lng\"]]\n",
    "# Get the maximum temperature.\n",
    "max_temp = city_data_df[\"Max Temp\"]\n",
    "# Assign the figure variable.\n",
    "fig = gmaps.figure(center=(30.0, 31.0), zoom_level=1.5) # resizing\n",
    "# Assign the heatmap variable.\n",
    "heat_layer = heat_layer = gmaps.heatmap_layer(locations, weights=[max(temp, 0) for temp in max_temp], dissipating=False, max_intensity=300, point_radius=4)\n",
    "# Add the heatmap layer.\n",
    "fig.add_layer(heat_layer)\n",
    "# Call the figure to plot the data.\n",
    "fig"
   ]
  },
  {
   "cell_type": "markdown",
   "id": "e6bc14df",
   "metadata": {},
   "source": [
    "If you review the gmaps documentation, you may notice there is a dissipation option for creating heatmaps that can be added to the gmaps.heat_layer() attribute.\n",
    "\n",
    "The options for this are:\n",
    "\n",
    "The default option for the dissipation is \"True,\" so we need to set our \"dissipation\" to \"False.\"\n",
    "We can add max_intensity to make each measurement have a better gradient variance.\n",
    "We can add point_radius to make each measurement radius larger.\n",
    "Also, you'll have to tweak these values until you are satisfied with the final map.\n",
    "\n",
    "Let's modify our gmaps.heat_layer() attribute to heat_layer = gmaps.heatmap_layer(locations, weights=[max(temp, 0) for temp in max_temp], dissipating=False, max_intensity=300, point_radius=4) and rerun our code."
   ]
  },
  {
   "cell_type": "code",
   "execution_count": 20,
   "id": "3ba81c8b",
   "metadata": {},
   "outputs": [
    {
     "data": {
      "application/vnd.jupyter.widget-view+json": {
       "model_id": "e611b43cd1a4451fa6e8c01b51d6ef4f",
       "version_major": 2,
       "version_minor": 0
      },
      "text/plain": [
       "Figure(layout=FigureLayout(height='420px'))"
      ]
     },
     "metadata": {},
     "output_type": "display_data"
    }
   ],
   "source": [
    "# Heatmap of percent humidity\n",
    "locations = city_data_df[[\"Lat\", \"Lng\"]]\n",
    "humidity = city_data_df[\"Humidity\"]\n",
    "fig = gmaps.figure(center=(30.0, 31.0), zoom_level=1.5)\n",
    "heat_layer = gmaps.heatmap_layer(locations, weights=humidity, dissipating=False, max_intensity=300, point_radius=4)\n",
    "\n",
    "fig.add_layer(heat_layer)\n",
    "# Call the figure to plot the data.\n",
    "fig"
   ]
  },
  {
   "cell_type": "code",
   "execution_count": 21,
   "id": "fa46a047",
   "metadata": {},
   "outputs": [
    {
     "data": {
      "application/vnd.jupyter.widget-view+json": {
       "model_id": "8a5470af938c490f961fa6023326146d",
       "version_major": 2,
       "version_minor": 0
      },
      "text/plain": [
       "Figure(layout=FigureLayout(height='420px'))"
      ]
     },
     "metadata": {},
     "output_type": "display_data"
    }
   ],
   "source": [
    "# Heatmap of percent cloudy\n",
    "locations = city_data_df[[\"Lat\", \"Lng\"]]\n",
    "clouds = city_data_df[\"Cloudiness\"]\n",
    "fig = gmaps.figure(center=(30.0, 31.0), zoom_level=1.5)\n",
    "heat_layer = gmaps.heatmap_layer(locations, weights=clouds, dissipating=False, max_intensity=300, point_radius=4)\n",
    "\n",
    "fig.add_layer(heat_layer)\n",
    "# Call the figure to plot the data.\n",
    "fig"
   ]
  },
  {
   "cell_type": "code",
   "execution_count": 22,
   "id": "f3218f05",
   "metadata": {},
   "outputs": [
    {
     "data": {
      "application/vnd.jupyter.widget-view+json": {
       "model_id": "863ed4908ffa4652b3e7da8170201416",
       "version_major": 2,
       "version_minor": 0
      },
      "text/plain": [
       "Figure(layout=FigureLayout(height='420px'))"
      ]
     },
     "metadata": {},
     "output_type": "display_data"
    }
   ],
   "source": [
    "# Heatmap of wind speed\n",
    "locations = city_data_df[[\"Lat\", \"Lng\"]]\n",
    "wind = city_data_df[\"Wind Speed\"]\n",
    "fig = gmaps.figure(center=(30.0, 31.0), zoom_level=1.5)\n",
    "heat_layer = gmaps.heatmap_layer(locations, weights=wind, dissipating=False, max_intensity=300, point_radius=4)\n",
    "\n",
    "fig.add_layer(heat_layer)\n",
    "# Call the figure to plot the data.\n",
    "fig"
   ]
  },
  {
   "cell_type": "code",
   "execution_count": null,
   "id": "c2221c6c",
   "metadata": {},
   "outputs": [],
   "source": []
  }
 ],
 "metadata": {
  "kernelspec": {
   "display_name": "PythonData",
   "language": "python",
   "name": "pythondata"
  },
  "language_info": {
   "codemirror_mode": {
    "name": "ipython",
    "version": 3
   },
   "file_extension": ".py",
   "mimetype": "text/x-python",
   "name": "python",
   "nbconvert_exporter": "python",
   "pygments_lexer": "ipython3",
   "version": "3.7.11"
  }
 },
 "nbformat": 4,
 "nbformat_minor": 5
}
